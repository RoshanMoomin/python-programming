{
 "cells": [
  {
   "cell_type": "markdown",
   "metadata": {},
   "source": [
    "\n",
    "\n",
    "##                                                                            WEEk 1\n",
    "\n",
    "\n",
    "\n",
    "                                                                           Roshan Marasini\n",
    "                                                                    PRG 330: Python Programming\n",
    "                                                                        Prof. TekRaj Pant\n",
    "                                                                 Westcliff University, California\n",
    "                                                                            October 10,2024\n",
    "                                                                 "
   ]
  },
  {
   "cell_type": "markdown",
   "metadata": {},
   "source": [
    "##                                                                           Python\n",
    "Intoduction\n",
    "1. We will start the coding by simply printing Hello word\n",
    "2. Printing an integer\n",
    "3. We will learn about numbers.\n",
    "4. We will use the len counts in numbers and characters\n",
    "5. We will use if elif and else command\n",
    "6. We will find a number odd or even\n",
    "7. We will use lower() syntax to lowercass all the character\n",
    "8. We will use while loop to print a name for ten times\n",
    "9. we will use while loop to add first hundred natural numbers\n",
    "10. We will use while loop to reverse a word\n",
    "11. We will learn to use append, pop, remove, insert, extend and clear\n",
    "12. We will use while loop in list"
   ]
  },
  {
   "cell_type": "markdown",
   "metadata": {},
   "source": [
    "In Week 1 of PRG 330: In this lesson of Python Programming, we learned what Python is and where it originated from, then write our first Python program; the “Hello World” program, and practice with Python variable types such as integers, strings and complex numbers. The decision making structures like if, elif and else were also discussed in details, for instance, determining if numbers are odd or even and ticketing conditions were also discussed. By employing while loops, we made things like writing a list of names, adding some numbers, reversing strings, and others go mechanical. We were introduced to list operations which include appending, popping , removing, inserting, extending and clearing vectors.Elements of list comprehensions were also covered where we used filter to get through even numbers. These concepts build the base for us to level up in Python with adequate knowledge of some basic structures in programming."
   ]
  },
  {
   "cell_type": "markdown",
   "metadata": {},
   "source": [
    "## Print hello world"
   ]
  },
  {
   "cell_type": "code",
   "execution_count": 4,
   "metadata": {},
   "outputs": [
    {
     "name": "stdout",
     "output_type": "stream",
     "text": [
      "hello world\n"
     ]
    }
   ],
   "source": [
    "hello=\"hello world\"\n",
    "print(hello)\n",
    "pie = 3.14\n",
    "b= 10"
   ]
  },
  {
   "cell_type": "markdown",
   "metadata": {},
   "source": [
    "## Print pie"
   ]
  },
  {
   "cell_type": "code",
   "execution_count": 3,
   "metadata": {},
   "outputs": [
    {
     "name": "stdout",
     "output_type": "stream",
     "text": [
      "3.14\n"
     ]
    }
   ],
   "source": [
    "pie = 3.14\n",
    "print(pie)"
   ]
  },
  {
   "cell_type": "markdown",
   "metadata": {},
   "source": [
    "## Print which type of variable it is"
   ]
  },
  {
   "cell_type": "code",
   "execution_count": 5,
   "metadata": {},
   "outputs": [
    {
     "name": "stdout",
     "output_type": "stream",
     "text": [
      "<class 'complex'>\n"
     ]
    }
   ],
   "source": [
    "age = 30\n",
    "price = 1.2\n",
    "real= 1j\n",
    "print(type(real))"
   ]
  },
  {
   "cell_type": "markdown",
   "metadata": {},
   "source": [
    "## Print first name and last name"
   ]
  },
  {
   "cell_type": "code",
   "execution_count": 14,
   "metadata": {},
   "outputs": [
    {
     "name": "stdout",
     "output_type": "stream",
     "text": [
      "15\n",
      "r i\n",
      "roshan marasini\n"
     ]
    }
   ],
   "source": [
    "n='roshan marasini'\n",
    "t=len(n)\n",
    "print(t)\n",
    "f=n[0] #1st char\n",
    "l=n[len(n)-1] #last Character\n",
    "print (f,l)\n",
    "firstname=n[0:6]\n",
    "lastname=n[7:16]\n",
    "print (firstname,lastname)\n"
   ]
  },
  {
   "cell_type": "markdown",
   "metadata": {},
   "source": [
    "## Input a number and check the age is correct or not"
   ]
  },
  {
   "cell_type": "code",
   "execution_count": 14,
   "metadata": {},
   "outputs": [
    {
     "name": "stdout",
     "output_type": "stream",
     "text": [
      "you are wrong\n"
     ]
    }
   ],
   "source": [
    "age = int(input('Enter my age'))\n",
    "if age== 21:\n",
    "    print(\"you are correct\")\n",
    "elif age== 20 or age ==22:\n",
    "    print(\"you are close\")\n",
    "else:\n",
    "    print(\"you are wrong\")\n"
   ]
  },
  {
   "cell_type": "markdown",
   "metadata": {},
   "source": [
    "## Check Whether a number is odd or Even"
   ]
  },
  {
   "cell_type": "code",
   "execution_count": 25,
   "metadata": {},
   "outputs": [
    {
     "name": "stdout",
     "output_type": "stream",
     "text": [
      "even\n"
     ]
    }
   ],
   "source": [
    "num=int(input('enter any number'))\n",
    "r = num % 2\n",
    "if r ==0:\n",
    "    print(\"even\")\n",
    "else:\n",
    "    print(\"odd\")"
   ]
  },
  {
   "cell_type": "markdown",
   "metadata": {},
   "source": [
    "## Input the current time and check the class"
   ]
  },
  {
   "cell_type": "code",
   "execution_count": 36,
   "metadata": {},
   "outputs": [
    {
     "name": "stdout",
     "output_type": "stream",
     "text": [
      "no class\n"
     ]
    }
   ],
   "source": [
    "time = int(input('Enter my time'))\n",
    "if time >=10 and time <12 :\n",
    "    print(\"Python\")\n",
    "elif time >=12 and time <14:\n",
    "    print(\"DSA\") \n",
    "elif time >=14 and time <16:\n",
    "    print(\"english\")\n",
    "else:\n",
    "    print(\"no class\")\n"
   ]
  },
  {
   "cell_type": "markdown",
   "metadata": {},
   "source": [
    "## Input a contry name and check the ticket price"
   ]
  },
  {
   "cell_type": "code",
   "execution_count": 43,
   "metadata": {},
   "outputs": [
    {
     "name": "stdout",
     "output_type": "stream",
     "text": [
      " ticket is 50 \n"
     ]
    }
   ],
   "source": [
    "country = input('Enter your country')\n",
    "\n",
    "if country.lower()== \"nepal\" or country.lower()== \"india\" :\n",
    "    print(\" ticket is 50 \")\n",
    "else:\n",
    "    print(\"ticket is 100\")"
   ]
  },
  {
   "cell_type": "markdown",
   "metadata": {},
   "source": [
    "## Print a name for 10 times"
   ]
  },
  {
   "cell_type": "code",
   "execution_count": 47,
   "metadata": {},
   "outputs": [
    {
     "name": "stdout",
     "output_type": "stream",
     "text": [
      "roshan Marasini\n",
      "0\n",
      "roshan0\n",
      "roshan Marasini\n",
      "1\n",
      "roshan1\n",
      "roshan Marasini\n",
      "2\n",
      "roshan2\n",
      "roshan Marasini\n",
      "3\n",
      "roshan3\n",
      "roshan Marasini\n",
      "4\n",
      "roshan4\n",
      "roshan Marasini\n",
      "5\n",
      "roshan5\n",
      "roshan Marasini\n",
      "6\n",
      "roshan6\n",
      "roshan Marasini\n",
      "7\n",
      "roshan7\n",
      "roshan Marasini\n",
      "8\n",
      "roshan8\n",
      "roshan Marasini\n",
      "9\n",
      "roshan9\n",
      "roshan Marasini\n",
      "10\n",
      "roshan10\n"
     ]
    }
   ],
   "source": [
    "\n",
    "COUNTER =0\n",
    "while COUNTER <=10:\n",
    "    print(\"roshan Marasini\")\n",
    "    print (COUNTER)\n",
    "    print(f\"roshan {COUNTER}\")\n",
    "    COUNTER +=1"
   ]
  },
  {
   "cell_type": "markdown",
   "metadata": {},
   "source": [
    "## Print a name for 10 times but counter starts from 10 and ends at 0"
   ]
  },
  {
   "cell_type": "code",
   "execution_count": 48,
   "metadata": {},
   "outputs": [
    {
     "name": "stdout",
     "output_type": "stream",
     "text": [
      "roshan Marasini\n",
      "10\n",
      "roshan10\n",
      "roshan Marasini\n",
      "9\n",
      "roshan9\n",
      "roshan Marasini\n",
      "8\n",
      "roshan8\n",
      "roshan Marasini\n",
      "7\n",
      "roshan7\n",
      "roshan Marasini\n",
      "6\n",
      "roshan6\n",
      "roshan Marasini\n",
      "5\n",
      "roshan5\n",
      "roshan Marasini\n",
      "4\n",
      "roshan4\n",
      "roshan Marasini\n",
      "3\n",
      "roshan3\n",
      "roshan Marasini\n",
      "2\n",
      "roshan2\n",
      "roshan Marasini\n",
      "1\n",
      "roshan1\n",
      "roshan Marasini\n",
      "0\n",
      "roshan0\n"
     ]
    }
   ],
   "source": [
    "\n",
    "COUNTER =10\n",
    "while COUNTER >=0:\n",
    "    print(\"roshan Marasini\")\n",
    "    print (COUNTER)\n",
    "    print(\"roshan\" + str(COUNTER))\n",
    "    COUNTER -=1"
   ]
  },
  {
   "cell_type": "markdown",
   "metadata": {},
   "source": [
    "## Print first 100 numbers and print the sum of the numbers"
   ]
  },
  {
   "cell_type": "code",
   "execution_count": 63,
   "metadata": {},
   "outputs": [
    {
     "name": "stdout",
     "output_type": "stream",
     "text": [
      "1\n",
      "2\n",
      "3\n",
      "4\n",
      "5\n",
      "6\n",
      "7\n",
      "8\n",
      "9\n",
      "10\n",
      "11\n",
      "12\n",
      "13\n",
      "14\n",
      "15\n",
      "16\n",
      "17\n",
      "18\n",
      "19\n",
      "20\n",
      "21\n",
      "22\n",
      "23\n",
      "24\n",
      "25\n",
      "26\n",
      "27\n",
      "28\n",
      "29\n",
      "30\n",
      "31\n",
      "32\n",
      "33\n",
      "34\n",
      "35\n",
      "36\n",
      "37\n",
      "38\n",
      "39\n",
      "40\n",
      "41\n",
      "42\n",
      "43\n",
      "44\n",
      "45\n",
      "46\n",
      "47\n",
      "48\n",
      "49\n",
      "50\n",
      "51\n",
      "52\n",
      "53\n",
      "54\n",
      "55\n",
      "56\n",
      "57\n",
      "58\n",
      "59\n",
      "60\n",
      "61\n",
      "62\n",
      "63\n",
      "64\n",
      "65\n",
      "66\n",
      "67\n",
      "68\n",
      "69\n",
      "70\n",
      "71\n",
      "72\n",
      "73\n",
      "74\n",
      "75\n",
      "76\n",
      "77\n",
      "78\n",
      "79\n",
      "80\n",
      "81\n",
      "82\n",
      "83\n",
      "84\n",
      "85\n",
      "86\n",
      "87\n",
      "88\n",
      "89\n",
      "90\n",
      "91\n",
      "92\n",
      "93\n",
      "94\n",
      "95\n",
      "96\n",
      "97\n",
      "98\n",
      "99\n",
      "100\n",
      "5050\n"
     ]
    }
   ],
   "source": [
    "n=100\n",
    "r= 0\n",
    "COUNTER = 1\n",
    "while COUNTER<=n:\n",
    "    print (COUNTER)\n",
    "    r+=COUNTER\n",
    "    COUNTER +=1\n",
    "print(r)"
   ]
  },
  {
   "cell_type": "markdown",
   "metadata": {},
   "source": [
    "## Print the sum of the first two hundred even numbers"
   ]
  },
  {
   "cell_type": "code",
   "execution_count": 65,
   "metadata": {},
   "outputs": [
    {
     "name": "stdout",
     "output_type": "stream",
     "text": [
      "10100\n"
     ]
    }
   ],
   "source": [
    "n=200\n",
    "r= 0\n",
    "COUNTER = 1\n",
    "while COUNTER<=n:\n",
    "    if COUNTER%2==0:\n",
    "       r+=COUNTER \n",
    "    COUNTER +=1\n",
    "print(r)"
   ]
  },
  {
   "cell_type": "markdown",
   "metadata": {},
   "source": [
    "## Print a inputed word into reverse"
   ]
  },
  {
   "cell_type": "code",
   "execution_count": 1,
   "metadata": {},
   "outputs": [
    {
     "name": "stdout",
     "output_type": "stream",
     "text": [
      "12\n",
      "pakiaN onaruP\n"
     ]
    }
   ],
   "source": [
    "address=\"Purano Naikap\"\n",
    "length = len(address)-1\n",
    "reversed_string=\"\"\n",
    "print(length)\n",
    "while length>=0:\n",
    "    reversed_string=reversed_string+address[length]\n",
    "    length-=1\n",
    "print(reversed_string)\n",
    "\n"
   ]
  },
  {
   "cell_type": "markdown",
   "metadata": {},
   "source": [
    "## Print the firstelement and total items and the last element of a list"
   ]
  },
  {
   "cell_type": "code",
   "execution_count": 2,
   "metadata": {},
   "outputs": [
    {
     "name": "stdout",
     "output_type": "stream",
     "text": [
      "1\n",
      "7\n",
      "6\n"
     ]
    }
   ],
   "source": [
    "numbers=[1,2,3,4,5,6,6]\n",
    "students=[\"Roshan\",\"Rishav\"]\n",
    "firstnumber=numbers[0]\n",
    "print(firstnumber)\n",
    "totalitems=len(numbers)\n",
    "print(totalitems)\n",
    "lastelement=numbers[totalitems-1]\n",
    "print(lastelement)"
   ]
  },
  {
   "cell_type": "markdown",
   "metadata": {},
   "source": [
    "## Enter a list and append, pop, remove, insert, extend and clear"
   ]
  },
  {
   "cell_type": "code",
   "execution_count": 13,
   "metadata": {},
   "outputs": [
    {
     "name": "stdout",
     "output_type": "stream",
     "text": [
      "[1, 2, 3, 4, 5, 6, 7, 8, 99, 9, 8]\n",
      "[1, 2, 3, 4, 5, 6, 7, 8, 99, 9]\n",
      "[1, 2, 3, 4, 6, 7, 8, 99, 9]\n",
      "[1, 2, 10, 3, 4, 6, 7, 8, 99, 9]\n",
      "1\n",
      "[1, 2, 3, 4]\n",
      "[]\n"
     ]
    }
   ],
   "source": [
    "numbers=[1,2,3,4,5,6,7,8,99,9]\n",
    "numbers.append(8)\n",
    "print(numbers)\n",
    "numbers.pop()\n",
    "print(numbers)\n",
    "numbers.remove(5)\n",
    "print(numbers)\n",
    "numbers.insert(2,10)\n",
    "print(numbers)\n",
    "print(numbers.count(1))\n",
    "number1=[1,2]\n",
    "number2=[3,4]\n",
    "number1.extend(number2)\n",
    "print(number1)\n",
    "number1.clear()\n",
    "print(number1)\n",
    "\n"
   ]
  },
  {
   "cell_type": "markdown",
   "metadata": {},
   "source": [
    "## Use copy and append in a string"
   ]
  },
  {
   "cell_type": "code",
   "execution_count": 16,
   "metadata": {},
   "outputs": [
    {
     "name": "stdout",
     "output_type": "stream",
     "text": [
      "28 25\n",
      "['roshan', 'rishav', 'bishnu', 'sarita', 'xyz'] ['roshan', 'rishav', 'bishnu', 'sarita']\n",
      "roshan exist in a\n"
     ]
    }
   ],
   "source": [
    "a=25\n",
    "b=a\n",
    "a=a+3\n",
    "print(a,b)\n",
    "a=['roshan','rishav','bishnu',\"sarita\"]\n",
    "b=a.copy()\n",
    "a.append('xyz')\n",
    "print (a,b)\n",
    "if \"roshan\" in a:\n",
    "    print('roshan exist in a')"
   ]
  },
  {
   "cell_type": "markdown",
   "metadata": {},
   "source": [
    "## Using a while loop find a sum in a list"
   ]
  },
  {
   "cell_type": "code",
   "execution_count": 27,
   "metadata": {},
   "outputs": [
    {
     "name": "stdout",
     "output_type": "stream",
     "text": [
      "1\n",
      "2\n",
      "3\n",
      "4\n",
      "5\n",
      "6\n",
      "6\n",
      "27\n"
     ]
    }
   ],
   "source": [
    "numbers=[1,2,3,4,5,6,6]\n",
    "totalitems=len(numbers)\n",
    "index=0\n",
    "sum=0\n",
    "while index<totalitems:\n",
    "    sum+=numbers[index]\n",
    "    print (numbers[index])\n",
    "    index+=1\n",
    "print(sum)\n"
   ]
  },
  {
   "cell_type": "markdown",
   "metadata": {},
   "source": [
    "## Print the largest value in a list"
   ]
  },
  {
   "cell_type": "code",
   "execution_count": 31,
   "metadata": {},
   "outputs": [
    {
     "name": "stdout",
     "output_type": "stream",
     "text": [
      "6\n"
     ]
    }
   ],
   "source": [
    "numbers=[1,2,3,4,5,6,6]\n",
    "totalitems=len(numbers)\n",
    "index=0\n",
    "maxvalue=numbers[0]\n",
    "while index<totalitems:\n",
    "    if maxvalue<numbers[index]:\n",
    "        maxvalue=numbers[index]\n",
    "    index+=1\n",
    "print(maxvalue)"
   ]
  },
  {
   "cell_type": "markdown",
   "metadata": {},
   "source": [
    "## Print the lowest value in a list"
   ]
  },
  {
   "cell_type": "code",
   "execution_count": 32,
   "metadata": {},
   "outputs": [
    {
     "name": "stdout",
     "output_type": "stream",
     "text": [
      "1\n"
     ]
    }
   ],
   "source": [
    "numbers=[1,2,3,4,5,6,6]\n",
    "totalitems=len(numbers)\n",
    "index=0\n",
    "maxvalue=numbers[0]\n",
    "while index<totalitems:\n",
    "    if maxvalue>numbers[index]:\n",
    "        maxvalue=numbers[index]\n",
    "    index+=1\n",
    "print(maxvalue)"
   ]
  },
  {
   "cell_type": "markdown",
   "metadata": {},
   "source": [
    "# Print the list after removing \"ram\" "
   ]
  },
  {
   "cell_type": "code",
   "execution_count": 40,
   "metadata": {},
   "outputs": [
    {
     "name": "stdout",
     "output_type": "stream",
     "text": [
      "['hari', 'gita']\n"
     ]
    }
   ],
   "source": [
    "students=[\"ram\",'hari','gita']\n",
    "filterdstudents=[i for i in students if i !=\"ram\"]\n",
    "print(filterdstudents)\n",
    "    "
   ]
  },
  {
   "cell_type": "markdown",
   "metadata": {},
   "source": [
    "## Print the even numbers from the list"
   ]
  },
  {
   "cell_type": "code",
   "execution_count": 41,
   "metadata": {},
   "outputs": [
    {
     "name": "stdout",
     "output_type": "stream",
     "text": [
      "[2, 4, 6, 8, 10]\n"
     ]
    }
   ],
   "source": [
    "numbers=[1,2,3,4,5,6,7,8,9,10]\n",
    "evenonly=[i for i in numbers if i %2==0]\n",
    "print(evenonly)"
   ]
  }
 ],
 "metadata": {
  "kernelspec": {
   "display_name": "base",
   "language": "python",
   "name": "python3"
  },
  "language_info": {
   "codemirror_mode": {
    "name": "ipython",
    "version": 3
   },
   "file_extension": ".py",
   "mimetype": "text/x-python",
   "name": "python",
   "nbconvert_exporter": "python",
   "pygments_lexer": "ipython3",
   "version": "3.12.4"
  }
 },
 "nbformat": 4,
 "nbformat_minor": 2
}
