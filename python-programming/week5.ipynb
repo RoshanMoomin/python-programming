{
 "cells": [
  {
   "cell_type": "markdown",
   "metadata": {},
   "source": [
    "\n",
    "\n",
    "##                                                                           WEEk 5\n",
    "\n",
    "\n",
    "\n",
    "                                                                           Roshan Marasini\n",
    "                                                                    PRG 330: Python Programming\n",
    "                                                                        Prof. TekRaj Pant\n",
    "                                                                 Westcliff University, California\n",
    "                                                                            November 24,2024\n",
    "                                                                 "
   ]
  },
  {
   "cell_type": "markdown",
   "metadata": {},
   "source": [
    "## Introduction"
   ]
  },
  {
   "cell_type": "markdown",
   "metadata": {},
   "source": [
    "This week in Python Programming, we learned about using NumPy for advanced operations and applied some linear regression using Python libraries. We went through how to reshape and flatten arrays, index, slice, and create basic arithmetic with NumPy. We applied mathematical/statistical functions to compute the mean and standard deviation, and performed matrix operations such as dot and cross products. TheTF-IDF concept was utilized in calculating sentence similarity, which is actually a very practical application of vectorization. Linear regression was introduced by the example of prediction of sales, using data visualization with Matplotlib and Seaborn. Finally, there was the creation of a multiple linear regression model that analyzes marketing data by cleaning and splitting datasets, training the model, and then evaluating it with metrics such as mean squared error. The in-depth approach highlighted practical applications of Python in data analysis and prediction."
   ]
  },
  {
   "cell_type": "code",
   "execution_count": 6,
   "metadata": {},
   "outputs": [],
   "source": [
    "import pandas as pd\n",
    "import numpy as np\n",
    "import matplotlib.pyplot as plt\n",
    "import seaborn as sns"
   ]
  },
  {
   "cell_type": "code",
   "execution_count": null,
   "metadata": {},
   "outputs": [
    {
     "name": "stdout",
     "output_type": "stream",
     "text": [
      "Original array:\n",
      " [1 2 3 4 5 6]\n",
      "---------------\n",
      "Reshaped array:\n",
      " [[1 2 3]\n",
      " [4 5 6]]\n"
     ]
    }
   ],
   "source": [
    "# Reshaping 1,6 array to 2X3 array\n",
    "arr=np.array([1,2,3,4,5,6])\n",
    "newarr=arr.reshape(2,3)\n",
    "print('Original array:\\n',arr)\n",
    "print('---------------')\n",
    "print('Reshaped array:\\n', newarr)\n"
   ]
  },
  {
   "cell_type": "markdown",
   "metadata": {},
   "source": [
    "## Flatten Array"
   ]
  },
  {
   "cell_type": "code",
   "execution_count": null,
   "metadata": {},
   "outputs": [
    {
     "name": "stdout",
     "output_type": "stream",
     "text": [
      "Original array:\n",
      " [1 2 3 4 5 6]\n",
      "---------------\n",
      "Reshaped array:\n",
      " [[1 2 3]\n",
      " [4 5 6]]\n",
      "flattened array:\n",
      " [1 2 3 4 5 6]\n"
     ]
    }
   ],
   "source": [
    "# flattened array\n",
    "arr=np.array([1,2,3,4,5,6])\n",
    "newarr=arr.reshape(2,3)\n",
    "flattend_arr=arr.flatten()\n",
    "print('Original array:\\n',arr)\n",
    "print('---------------')\n",
    "print('Reshaped array:\\n', newarr)\n",
    "print('flattened array:\\n', flattend_arr)"
   ]
  },
  {
   "cell_type": "markdown",
   "metadata": {},
   "source": [
    "## NumPy Array Indexing and Slicing\n",
    "# Basic Indexing\n",
    "Indexing allows us to access the individual elements or subsets of dat"
   ]
  },
  {
   "cell_type": "code",
   "execution_count": 19,
   "metadata": {},
   "outputs": [
    {
     "name": "stdout",
     "output_type": "stream",
     "text": [
      "(6,)\n"
     ]
    }
   ],
   "source": [
    "#1D Array Indexing\n",
    "arr=np.array([1,2,3,4,5,6])\n",
    "print(arr.shape)"
   ]
  },
  {
   "cell_type": "code",
   "execution_count": 28,
   "metadata": {},
   "outputs": [
    {
     "name": "stdout",
     "output_type": "stream",
     "text": [
      "3\n",
      "(6,)\n",
      "the dimesion of array is 2\n",
      "the shape of array is (3, 3)\n",
      "the size of array is 9\n",
      "7\n",
      "2\n",
      "6\n"
     ]
    }
   ],
   "source": [
    "#1D Array Indexing\n",
    "arr=np.array([1,2,3,4,5,6])\n",
    "no_three=arr[2]\n",
    "print(no_three)\n",
    "print(arr.shape)\n",
    "\n",
    "#2D array\n",
    "num_2d_array=np.array([[1,2,3],\n",
    "                       [4,5,6],\n",
    "                       [6,7,3]])\n",
    "print('the dimesion of array is',num_2d_array.ndim)\n",
    "print('the shape of array is',num_2d_array.shape)\n",
    "print('the size of array is',num_2d_array.size)\n",
    "print(num_2d_array[2,1])\n",
    "print(num_2d_array[0,1])\n",
    "print(num_2d_array[-1,-3])"
   ]
  },
  {
   "cell_type": "markdown",
   "metadata": {},
   "source": [
    "## Slicing in NumPy\n",
    "In NumPy we can access the portion of an arrav using the slice operator\n",
    "\n",
    "\n",
    "## 1-D Array Slicing\n",
    "Syntax: array[start: stop:step]\n",
    "* start: index of the first element to be included in slice\n",
    "* stop: index of the last element(exclusive)\n",
    "* step: step size between eaxh element in the slice"
   ]
  },
  {
   "cell_type": "code",
   "execution_count": 30,
   "metadata": {},
   "outputs": [
    {
     "name": "stdout",
     "output_type": "stream",
     "text": [
      "[3 4 5 6]\n",
      "[1 3 5 7]\n",
      "[1 2 3 4 5]\n",
      "[11  9  7  5  3  1]\n",
      "[100 100 100 100 100   6   7   8   9  10  11]\n"
     ]
    }
   ],
   "source": [
    "arr=np.array([1,2,3,4,5,6,7,8,9,10,11])\n",
    "# slice array from index 2-6(6 exclusive)\n",
    "print(arr[2:6]) # [3,4,5,6]\n",
    "# slice array from 0 to 8 with a step size of 2\n",
    "print(arr[0:8:2])#[1,3,5,7]\n",
    "# slice array from index 4 to last element\n",
    "print(arr[:5])\n",
    "#negative index\n",
    "print(arr[-1::-2]) # slice every 2nd element from end to start\n",
    "\n",
    "arr[:5]=100 #replace items from 0-5 with 100\n",
    "print (arr)\n",
    "\n"
   ]
  },
  {
   "cell_type": "markdown",
   "metadata": {},
   "source": [
    "## 2-D Array Slicing\n",
    "syntax: array[row_start:row_stop:row_step,col_start:col_stop:col_step]"
   ]
  },
  {
   "cell_type": "code",
   "execution_count": 32,
   "metadata": {},
   "outputs": [
    {
     "name": "stdout",
     "output_type": "stream",
     "text": [
      "2\n",
      "[[1 2 3]]\n",
      "[[1 2]\n",
      " [4 5]]\n"
     ]
    }
   ],
   "source": [
    "array_2d=np.array([\n",
    "    [1,2,3],\n",
    "    [4,5,6],\n",
    "    [7,8,9]\n",
    "])\n",
    "print(array_2d.ndim)\n",
    "#slice first row\n",
    "print(array_2d[0:1])\n",
    "# Slice array from first two rowws and first two columns\n",
    "print(array_2d[0:2,0:2])"
   ]
  },
  {
   "cell_type": "code",
   "execution_count": 34,
   "metadata": {},
   "outputs": [
    {
     "name": "stdout",
     "output_type": "stream",
     "text": [
      "[20 25 30]\n",
      "[10 20 30]\n"
     ]
    }
   ],
   "source": [
    "#creaing an array\n",
    "arr=np.array([5,10,15,20,25,30])\n",
    "# Select elements greater than 15\n",
    "print(arr[arr>15]) # output:[20 25 30]\n",
    "print(arr[arr % 2 == 0]) # selects elements that are even"
   ]
  },
  {
   "cell_type": "markdown",
   "metadata": {},
   "source": [
    "## NumPy Operations\n",
    "\n",
    "• NumPy Arithmetic Array Operations\n",
    "\n",
    "• NumPy Array Functions\n",
    "\n",
    "• NumPy Comparison/Logical Operations\n",
    "\n",
    "• NumPy Math Functions\n",
    "\n",
    "• NumPy Constants\n",
    "\n",
    "• NumPy Statistical Functions"
   ]
  },
  {
   "cell_type": "markdown",
   "metadata": {},
   "source": [
    "## NumPy Arithmetic Operations\n",
    "\n",
    "• add()\n",
    "\n",
    "• subtract()\n",
    "\n",
    "• multiply()\n",
    "\n",
    "• divide()\n",
    "\n",
    "• power()\n",
    "\n",
    "• mod()"
   ]
  },
  {
   "cell_type": "code",
   "execution_count": 38,
   "metadata": {},
   "outputs": [
    {
     "name": "stdout",
     "output_type": "stream",
     "text": [
      "[3 5 9] [-1 -1 -3] [ 2  6 18] [0.5        0.66666667 0.5       ] [  1   8 729] [1 2 3]\n"
     ]
    }
   ],
   "source": [
    "arr=np.array([1,2,3])\n",
    "prr=np.array([2,3,6])\n",
    "add=np.add(arr,prr)\n",
    "sub=np.subtract(arr,prr)\n",
    "mul=np.multiply(arr,prr)\n",
    "div=np.divide(arr,prr)\n",
    "pow=np.power(arr,prr)\n",
    "mod=np.mod(arr,prr)\n",
    "print(add,sub,mul,div,pow,mod)\n"
   ]
  },
  {
   "cell_type": "markdown",
   "metadata": {},
   "source": [
    "## NumPy Broadcasting\n",
    "\n",
    "* Broadcasting in NumPy allows it to preform arithmetic "
   ]
  },
  {
   "cell_type": "code",
   "execution_count": 39,
   "metadata": {},
   "outputs": [
    {
     "name": "stdout",
     "output_type": "stream",
     "text": [
      "[ 4  8 12 16]\n"
     ]
    }
   ],
   "source": [
    "arr1=np.array([1,2,3,4])\n",
    "arr2=np.array(4)\n",
    "result=arr1*arr2\n",
    "print(result)"
   ]
  },
  {
   "cell_type": "markdown",
   "metadata": {},
   "source": [
    "## Array manipulation Function"
   ]
  },
  {
   "cell_type": "code",
   "execution_count": 2,
   "metadata": {},
   "outputs": [
    {
     "name": "stdout",
     "output_type": "stream",
     "text": [
      "[[1 2 3]\n",
      " [4 5 6]\n",
      " [7 8 9]]\n",
      "[[1 4 7]\n",
      " [2 5 8]\n",
      " [3 6 9]]\n"
     ]
    }
   ],
   "source": [
    "numbers=np.array([1,2,3,4,5,6,7,8,9])\n",
    "reshaped_array=np.reshape(numbers,(3,3))\n",
    "print(reshaped_array)\n",
    "transposed_array=np.transpose(reshaped_array)\n",
    "print(transposed_array)"
   ]
  },
  {
   "cell_type": "markdown",
   "metadata": {},
   "source": [
    "## Numpy Mathematical and Statistical FUnction"
   ]
  },
  {
   "cell_type": "code",
   "execution_count": 6,
   "metadata": {},
   "outputs": [
    {
     "name": "stdout",
     "output_type": "stream",
     "text": [
      "^^^^^^^^^^^^^^^^^^^ Mathematical Function ^^^^^^^^^^^^^^^^^^^^^\n",
      "[1.         1.41421356 1.73205081 2.        ]\n",
      "********************************** Statistical Function ************************\n",
      "mean 171.3\n",
      "minimum marks: 10\n",
      "minimum marks: 1200\n",
      "minimum marks: 343.95786079111497\n"
     ]
    }
   ],
   "source": [
    "numbers=[1,2,3,4]\n",
    "\"\"\"^^^^^^^^^^^^^^^^^^^ Mathematical Function ^^^^^^^^^^^^^^^^^^^^^\"\"\"\n",
    "print(\"^^^^^^^^^^^^^^^^^^^ Mathematical Function ^^^^^^^^^^^^^^^^^^^^^\")\n",
    "sqrt_numbers=np.sqrt(numbers)\n",
    "print(sqrt_numbers)\n",
    "\n",
    "\n",
    "\n",
    "\n",
    "\"\"\"********************************** Statistical Function ************************\"\"\"\n",
    "print(\"********************************** Statistical Function ************************\")\n",
    "\n",
    "students_marks=np.array([30,50,67,10,1200,99,98,71,54,34])\n",
    "mean_marks=np.mean(students_marks)\n",
    "print(\"mean\",mean_marks)\n",
    "\n",
    "# find minimum marks and maximum marks\n",
    "min_marks=np.min(students_marks)\n",
    "print(\"minimum marks:\",min_marks)\n",
    "\n",
    "max_marks=np.max(students_marks)\n",
    "print(\"minimum marks:\",max_marks)\n",
    "\n",
    "std_marks=np.std(students_marks)\n",
    "print(\"minimum marks:\",std_marks)"
   ]
  },
  {
   "cell_type": "markdown",
   "metadata": {},
   "source": [
    "## NumPy Matrix and Vector Operations \n",
    "• Matrix Multiplication np.matmu1()\n",
    "\n",
    "• Dot Product np. dot()\n",
    "\n",
    "• Cross Product np. cross()\n",
    "\n",
    "• Transpose np. transpose\n",
    "\n",
    "• Inverse np. linalg. inverse()\n",
    "\n",
    "• Determinant linalg.det() linalg=>Linear Algebra\n",
    "\n",
    "• Norm np.linalg.norm()\n",
    "\n",
    "• Trace np.linalg.trace()"
   ]
  },
  {
   "cell_type": "code",
   "execution_count": 9,
   "metadata": {},
   "outputs": [
    {
     "name": "stdout",
     "output_type": "stream",
     "text": [
      "[[19 28]\n",
      " [43 64]]\n",
      "12.000000000000021\n",
      "32\n",
      "[-3  6 -3]\n"
     ]
    }
   ],
   "source": [
    "mat_1 =[\n",
    "            [1,2,3],\n",
    "            [4,5,6]\n",
    "        ]#2,3\n",
    "mat_2 =[\n",
    "            [1,2,],\n",
    "            [3,4],\n",
    "            [4,6]\n",
    "        ]#3,2\n",
    "result= np.matmul(mat_1,mat_2)\n",
    "print(result)\n",
    "\n",
    "#find determinant of matrix\n",
    "determinant=np.linalg.det(result)\n",
    "print(determinant)\n",
    "\n",
    "#vector operation\n",
    "vec1=[1,2,3]\n",
    "vec2=[4,5,6]\n",
    "#dot product\n",
    "dot_prod=np.dot(vec1,vec2)\n",
    "print(dot_prod)\n",
    "#cross Product\n",
    "cross_prod=np.cross(vec1,vec2)\n",
    "print(cross_prod)"
   ]
  },
  {
   "cell_type": "markdown",
   "metadata": {},
   "source": [
    "## Find out the similarity between following two sentences using cosine similarity\n",
    "• The Sky is Blue\n",
    "\n",
    "• The Ocean is Blue\n",
    "\n",
    "Use TD-IDF Algorithm to Vectorize the sentences\n",
    "\n",
    "\n",
    "TF (t)= total number of occurrence of term t in sentence (doc)/ \n",
    "\n",
    "total length of words in sentence (doc)\n",
    "\n",
    "\n",
    "IDF(t) = log ( total sentence (doc) length) / no of documents\n",
    "\n",
    "contains term t\n",
    "\n",
    "\n",
    "tf-idf score = tf * idf"
   ]
  },
  {
   "cell_type": "code",
   "execution_count": 36,
   "metadata": {},
   "outputs": [
    {
     "name": "stdout",
     "output_type": "stream",
     "text": [
      "0.8660254037844386\n"
     ]
    }
   ],
   "source": [
    "sec1=\"The sky is Blue\".lower()\n",
    "sec2=\"The ocean is Blue\".lower()\n",
    "## vec0=np.array([1,2,3,4])\n",
    "## vec1=np.array([1,5,3,4])\n",
    "## dot_prod=np.dot(vec0,vec1)\n",
    "## similarity=dot_prod/(np.linalg.norm(vec0)*np.linalg.norm(vec1))\n",
    "## print(similarity)\n",
    "\n",
    "def tf_idf_vectorizer(word,sentence):\n",
    "    tf=sentence.count(word) / len(sentence.split())\n",
    "    total_doc_size=2\n",
    "    idf=np.log(total_doc_size/1 if word in sec1 else 0 +1 if word in sec2 else 0)\n",
    "    return tf* idf\n",
    "\n",
    "\n",
    "vec1=np.array([tf_idf_vectorizer(word,sec1) for word in sec1.split()])\n",
    "vec2= np.array([tf_idf_vectorizer(word,sec2) for word in sec2.split()])\n",
    "\n",
    "similarity= np.dot(vec1,vec2)/(np.linalg.norm(vec1)*np.linalg.norm(vec2))\n",
    "print(similarity)\n"
   ]
  },
  {
   "cell_type": "code",
   "execution_count": 8,
   "metadata": {},
   "outputs": [
    {
     "data": {
      "text/plain": [
       "<function matplotlib.pyplot.show(close=None, block=None)>"
      ]
     },
     "execution_count": 8,
     "metadata": {},
     "output_type": "execute_result"
    },
    {
     "data": {
      "image/png": "[encoded data removed]",
      "text/plain": [
       "<Figure size 500x300 with 1 Axes>"
      ]
     },
     "metadata": {},
     "output_type": "display_data"
    }
   ],
   "source": [
    "import pandas as pd\n",
    "import numpy as np\n",
    "import matplotlib.pyplot as plt\n",
    "\n",
    "#from the given data, predict sales when price is 20, using simple linear regresion\n",
    "\n",
    "sales_data= pd.DataFrame({\n",
    "    'price': [10,12,13,12,16,15],\n",
    "    'sales' : [40,38,43,45,37,43]\n",
    "})\n",
    "\n",
    "plt.figure(figsize = (5,3))\n",
    "plt.scatter  (\n",
    "    sales_data ['price'],\n",
    "    sales_data['sales'],\n",
    "    color = 'purple',\n",
    "    edgecolor = 'black',\n",
    "    )\n",
    "\n",
    "\n",
    "# fit a linear regression model to the data\n",
    "\n",
    "x = sales_data['price']\n",
    "y = sales_data['sales']\n",
    "m,c = np.polyfit(x,y,1)\n",
    "\n",
    "# Plot the trend line \n",
    "plt.plot(x,\n",
    "         m*x+c, color = 'red',\n",
    "         linewidth = 1, \n",
    ")\n",
    "\n",
    "plt.xticks(rotation=45)\n",
    "plt.title('Price vs Scales')\n",
    "plt.xlabel('Price')\n",
    "plt.ylabel('Sales')\n",
    "plt.grid(True)\n",
    "plt.show"
   ]
  },
  {
   "cell_type": "markdown",
   "metadata": {},
   "source": [
    "## Calculate regression"
   ]
  },
  {
   "cell_type": "code",
   "execution_count": 17,
   "metadata": {},
   "outputs": [
    {
     "name": "stdout",
     "output_type": "stream",
     "text": [
      "Predicted sales when price is  39.25\n"
     ]
    }
   ],
   "source": [
    "\n",
    "prices = [10, 12, 13, 12, 16, 15]\n",
    "sales = [40, 38, 43, 45, 37, 43]\n",
    "\n",
    "# Calculate sums\n",
    "n = len(prices)\n",
    "sum_x = sum(prices)\n",
    "sum_y = sum(sales)\n",
    "sum_x_squared = sum(x**2 for x in prices)\n",
    "sum_xy = sum(x * y for x, y in zip(prices, sales))\n",
    "\n",
    "# Calculate slope (m)\n",
    "m = (n * sum_xy - sum_x * sum_y) / (n * sum_x_squared - sum_x**2)\n",
    "\n",
    "# Calculate intercept (b)\n",
    "c = (sum_y - m * sum_x) / n\n",
    "\n",
    "# Predict sales when price is 20\n",
    "price_to_predict = 20\n",
    "predicted_sales = m * price_to_predict + c\n",
    "\n",
    "print(\"Predicted sales when price is \",predicted_sales)"
   ]
  },
  {
   "cell_type": "markdown",
   "metadata": {},
   "source": [
    "## Linear Regression\n",
    "# Sales Predicton (marketing-vs-Sales)\n",
    "\n",
    "Build a multiple linear model which predicts sales based on the money spent on different platforms for marketing"
   ]
  },
  {
   "cell_type": "code",
   "execution_count": 18,
   "metadata": {},
   "outputs": [
    {
     "data": {
      "text/html": [
       "<div>\n",
       "<style scoped>\n",
       "    .dataframe tbody tr th:only-of-type {\n",
       "        vertical-align: middle;\n",
       "    }\n",
       "\n",
       "    .dataframe tbody tr th {\n",
       "        vertical-align: top;\n",
       "    }\n",
       "\n",
       "    .dataframe thead th {\n",
       "        text-align: right;\n",
       "    }\n",
       "</style>\n",
       "<table border=\"1\" class=\"dataframe\">\n",
       "  <thead>\n",
       "    <tr style=\"text-align: right;\">\n",
       "      <th></th>\n",
       "      <th>TV</th>\n",
       "      <th>Radio</th>\n",
       "      <th>Newspaper</th>\n",
       "      <th>Sales</th>\n",
       "    </tr>\n",
       "  </thead>\n",
       "  <tbody>\n",
       "    <tr>\n",
       "      <th>0</th>\n",
       "      <td>230.1</td>\n",
       "      <td>37.8</td>\n",
       "      <td>69.2</td>\n",
       "      <td>22.1</td>\n",
       "    </tr>\n",
       "    <tr>\n",
       "      <th>1</th>\n",
       "      <td>44.5</td>\n",
       "      <td>39.3</td>\n",
       "      <td>45.1</td>\n",
       "      <td>10.4</td>\n",
       "    </tr>\n",
       "    <tr>\n",
       "      <th>2</th>\n",
       "      <td>17.2</td>\n",
       "      <td>45.9</td>\n",
       "      <td>69.3</td>\n",
       "      <td>12.0</td>\n",
       "    </tr>\n",
       "    <tr>\n",
       "      <th>3</th>\n",
       "      <td>151.5</td>\n",
       "      <td>41.3</td>\n",
       "      <td>58.5</td>\n",
       "      <td>16.5</td>\n",
       "    </tr>\n",
       "    <tr>\n",
       "      <th>4</th>\n",
       "      <td>180.8</td>\n",
       "      <td>10.8</td>\n",
       "      <td>58.4</td>\n",
       "      <td>17.9</td>\n",
       "    </tr>\n",
       "  </tbody>\n",
       "</table>\n",
       "</div>"
      ],
      "text/plain": [
       "      TV  Radio  Newspaper  Sales\n",
       "0  230.1   37.8       69.2   22.1\n",
       "1   44.5   39.3       45.1   10.4\n",
       "2   17.2   45.9       69.3   12.0\n",
       "3  151.5   41.3       58.5   16.5\n",
       "4  180.8   10.8       58.4   17.9"
      ]
     },
     "execution_count": 18,
     "metadata": {},
     "output_type": "execute_result"
    }
   ],
   "source": [
    "marketing_data=pd.read_csv('./data/marketing-sales.csv')\n",
    "marketing_data.head()\n"
   ]
  },
  {
   "cell_type": "markdown",
   "metadata": {},
   "source": [
    "## Data Cleaning and Pre-Processing\n",
    "* Fix Data Types\n",
    "* Normalization(if required)\n",
    "* Handel missing data\n",
    "* Perform Data transformation/filtering (if required)"
   ]
  },
  {
   "cell_type": "code",
   "execution_count": 19,
   "metadata": {},
   "outputs": [],
   "source": [
    "marketing_data =marketing_data.fillna(marketing_data.mean())"
   ]
  },
  {
   "cell_type": "code",
   "execution_count": 21,
   "metadata": {},
   "outputs": [
    {
     "data": {
      "text/plain": [
       "<Figure size 1000x500 with 0 Axes>"
      ]
     },
     "metadata": {},
     "output_type": "display_data"
    },
    {
     "data": {
      "image/png": "[encoded data removed]",
      "text/plain": [
       "<Figure size 1200x400 with 3 Axes>"
      ]
     },
     "metadata": {},
     "output_type": "display_data"
    },
    {
     "data": {
      "image/png": "[encoded data removed]",
      "text/plain": [
       "<Figure size 640x480 with 2 Axes>"
      ]
     },
     "metadata": {},
     "output_type": "display_data"
    }
   ],
   "source": [
    "import seaborn as sns\n",
    "#Scattered plot between Tv-sales, Newspaper-sales, radio_sales\n",
    "plt.figure(figsize=(10,5))\n",
    "sns.pairplot(marketing_data, x_vars=[\"TV\",\"Newspaper\",\"Radio\"],y_vars=\"Sales\",height=4,aspect=1, kind=\"scatter\")\n",
    "plt.show()\n",
    "\n",
    "# Hitmap to find out the correlation between variables\n",
    "plt.figure()\n",
    "sns.heatmap(marketing_data.corr(),cmap=\"Reds\", annot=True)\n",
    "plt.show()"
   ]
  },
  {
   "cell_type": "markdown",
   "metadata": {},
   "source": [
    "## Build Multiple Linear Regression Model\n",
    "• TV, Radio, Newspaper are features (x1,x2,×3)\n",
    "\n",
    "• Sales is Label (y)\n",
    "\n",
    "Equation ``\\(y=\\beta _{0}+\\beta _{1}x_{1}+\\beta _{2}x_{2}+...+\\beta _{p}x_{p}+\\varepsilon \\)  ``\n",
    "\n",
    "Prepare Train-Test Dataset"
   ]
  },
  {
   "cell_type": "code",
   "execution_count": 15,
   "metadata": {},
   "outputs": [],
   "source": [
    "from sklearn.model_selection import train_test_split\n",
    "# Define features (x) and target (y)\n",
    "marketing_data=pd.read_csv('./data/marketing-sales.csv')\n",
    "x= marketing_data[['TV','Radio','Newspaper']]\n",
    "y=marketing_data['Sales']\n",
    "\n",
    "# slit the data into trzining and testing sets\n",
    "x_train, x_test, y_train, y_test= train_test_split(x,y, test_size=0.2,random_state=42)"
   ]
  },
  {
   "cell_type": "markdown",
   "metadata": {},
   "source": [
    "## Build Model"
   ]
  },
  {
   "cell_type": "code",
   "execution_count": 16,
   "metadata": {},
   "outputs": [
    {
     "name": "stdout",
     "output_type": "stream",
     "text": [
      "coefficient [0.05450927 0.10094536 0.00433665]\n",
      "intercept 4.714126402214134\n"
     ]
    }
   ],
   "source": [
    "from sklearn.linear_model import LinearRegression\n",
    "# Initialize the model\n",
    "sales_model = LinearRegression()\n",
    "# fit data to the model\n",
    "sales_model.fit(x_train,y_train)\n",
    "# Print The coefficient\n",
    "print(\"coefficient\",sales_model.coef_)\n",
    "print(\"intercept\",sales_model.intercept_)"
   ]
  },
  {
   "cell_type": "markdown",
   "metadata": {},
   "source": [
    "## Evaluate Model"
   ]
  },
  {
   "cell_type": "code",
   "execution_count": 34,
   "metadata": {},
   "outputs": [
    {
     "name": "stdout",
     "output_type": "stream",
     "text": [
      "Mean Squarred Error: 2.907756910271091 1.4538784551355455\n"
     ]
    }
   ],
   "source": [
    "from sklearn.metrics import mean_squared_error\n",
    "# Make predictions\n",
    "y_pred=sales_model.predict(x_test)\n",
    "\n",
    "# Evaluate the data\n",
    "mse= mean_squared_error(y_test,y_pred)\n",
    "rmse=mse**1/2\n",
    "print(\"Mean Squarred Error:\",mse,rmse)\n"
   ]
  },
  {
   "cell_type": "markdown",
   "metadata": {},
   "source": [
    "## Inferences (Use model in real life)"
   ]
  },
  {
   "cell_type": "code",
   "execution_count": 35,
   "metadata": {},
   "outputs": [
    {
     "name": "stdout",
     "output_type": "stream",
     "text": [
      "[[200  25  40]]\n",
      "Advertising Budget (TV: 200, Radio: 25, Newspaper: 40) -> Predicted Sales: 18.31\n"
     ]
    }
   ],
   "source": [
    "import numpy as np\n",
    "import warnings\n",
    "\n",
    "# Suppress warnings globally\n",
    "warnings.filterwarnings(\"ignore\", category=UserWarning)\n",
    "\n",
    "\n",
    "# Single data point for inference\n",
    "tv_ad_cost = 200\n",
    "radio_ad_cost = 25\n",
    "news_ad_cost = 40\n",
    "# create 1x array_len matrix (column matrix)\n",
    "single_data = np.array([tv_ad_cost,radio_ad_cost,news_ad_cost]).reshape(1,3)\n",
    "print(single_data)\n",
    "# Predict sales for the single data point\n",
    "single_prediction = sales_model.predict(single_data)\n",
    "\n",
    "# Display the prediction\n",
    "print(f\"Advertising Budget (TV: {tv_ad_cost}, Radio: {radio_ad_cost}, Newspaper: {news_ad_cost}) -> Predicted Sales: {single_prediction[0]:.2f}\")"
   ]
  },
  {
   "cell_type": "markdown",
   "metadata": {},
   "source": [
    "## GROUP C\n",
    "\n",
    "* Build a Multiple Linear Regression model to predict the student's final grade\n",
    "\n",
    "* https://archive.ics.uci.edu/dataset/320/student+performance"
   ]
  },
  {
   "cell_type": "code",
   "execution_count": 9,
   "metadata": {},
   "outputs": [
    {
     "name": "stdout",
     "output_type": "stream",
     "text": [
      "Coefficients: [0.18800404 0.87936227 0.11871677 0.02411937]\n",
      "Intercept: -0.7119868570275454\n",
      "Mean Squared Error (MSE): 1.372077965957338\n",
      "Predicted Final Grade (G3): 12.078431193322356\n"
     ]
    }
   ],
   "source": [
    "import pandas as pd\n",
    "from sklearn.model_selection import train_test_split\n",
    "from sklearn.linear_model import LinearRegression\n",
    "from sklearn.metrics import mean_squared_error\n",
    "data = pd.read_csv('./data/student-por.csv', sep=';')\n",
    "X = data[['G1', 'G2', 'studytime', 'absences']]  \n",
    "y = data['G3']  \n",
    "X_train, X_test, y_train, y_test = train_test_split(X, y, test_size=0.2, random_state=42)\n",
    "model = LinearRegression()\n",
    "model.fit(X_train, y_train)\n",
    "y_pred = model.predict(X_test)\n",
    "mse = mean_squared_error(y_test, y_pred)\n",
    "print(\"Coefficients:\", model.coef_)\n",
    "print(\"Intercept:\", model.intercept_)\n",
    "print(\"Mean Squared Error (MSE):\", mse)\n",
    "example_data = pd.DataFrame([[10, 12, 2, 5]], columns=['G1', 'G2', 'studytime', 'absences'])\n",
    "predicted_grade = model.predict(example_data)\n",
    "print(\"Predicted Final Grade (G3):\", predicted_grade[0])"
   ]
  }
 ],
 "metadata": {
  "kernelspec": {
   "display_name": "base",
   "language": "python",
   "name": "python3"
  },
  "language_info": {
   "codemirror_mode": {
    "name": "ipython",
    "version": 3
   },
   "file_extension": ".py",
   "mimetype": "text/x-python",
   "name": "python",
   "nbconvert_exporter": "python",
   "pygments_lexer": "ipython3",
   "version": "3.12.4"
  }
 },
 "nbformat": 4,
 "nbformat_minor": 2
}
