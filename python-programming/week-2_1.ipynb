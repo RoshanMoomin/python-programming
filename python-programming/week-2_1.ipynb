{
 "cells": [
  {
   "cell_type": "markdown",
   "metadata": {},
   "source": [
    "\n",
    "\n",
    "##                                                                           WEEk 2\n",
    "\n",
    "\n",
    "\n",
    "                                                                           Roshan Marasini\n",
    "                                                                    PRG 330: Python Programming\n",
    "                                                                        Prof. TekRaj Pant\n",
    "                                                                 Westcliff University, California\n",
    "                                                                            November 03,2024\n",
    "                                                                 "
   ]
  },
  {
   "cell_type": "markdown",
   "metadata": {},
   "source": [
    "## PYTHON "
   ]
  },
  {
   "cell_type": "markdown",
   "metadata": {},
   "source": [
    "##  INTRODUCTION"
   ]
  },
  {
   "cell_type": "markdown",
   "metadata": {},
   "source": [
    "This introduction to Python will introduce the basic concepts of programming through practical examples, using simple functions. It covers looping constructs-for loops for filtering into even and odd numbers and counting vowels and consonants. It then introduces functions for operations like the sum of two numbers, swapping variables, and checking properties of prime numbers, palindromes, and perfect squares. More to it, it extends to show how to work the lists, finding unique items, common elements, and the second largest value. Lambda functions together with the range() function are briefly discussed."
   ]
  },
  {
   "cell_type": "markdown",
   "metadata": {},
   "source": [
    "# For Loop"
   ]
  },
  {
   "cell_type": "code",
   "execution_count": 77,
   "metadata": {},
   "outputs": [
    {
     "name": "stdout",
     "output_type": "stream",
     "text": [
      "[2, 4, 6, 100]\n"
     ]
    }
   ],
   "source": [
    "numbers= [1,1,2,3,4,5,6,100]\n",
    "even_list=[]\n",
    "for num in numbers:\n",
    "    if num%2 ==0:\n",
    "        even_list.append(num)\n",
    "print(even_list)"
   ]
  },
  {
   "cell_type": "markdown",
   "metadata": {},
   "source": [
    "# Create a list of even numbers and odd numbers from the given list"
   ]
  },
  {
   "cell_type": "code",
   "execution_count": 78,
   "metadata": {},
   "outputs": [
    {
     "name": "stdout",
     "output_type": "stream",
     "text": [
      "2\n",
      "4\n",
      "100\n",
      "[2, 4, 100]\n",
      "[1, 1, 3, 5, 3, 11]\n"
     ]
    }
   ],
   "source": [
    "numbers= [1,1,2,3,4,5,3,11,100] #list of int\n",
    "even_list=[]\n",
    "odd_list=[]\n",
    "#iterate over list\n",
    "for num in numbers:\n",
    "    if num%2==0:\n",
    "        print(num)\n",
    "        even_list.append(num)\n",
    "    else:\n",
    "        odd_list.append(num)\n",
    "print(even_list)\n",
    "print(odd_list)"
   ]
  },
  {
   "cell_type": "markdown",
   "metadata": {},
   "source": [
    "# Create a list of unique numbers from the given list"
   ]
  },
  {
   "cell_type": "code",
   "execution_count": 79,
   "metadata": {},
   "outputs": [
    {
     "name": "stdout",
     "output_type": "stream",
     "text": [
      "[1, 2, 3, 4, 5, 11, 100]\n"
     ]
    }
   ],
   "source": [
    "numbers= [1,1,2,3,4,5,3,11,100] #list of int\n",
    "unique_numbers=[]\n",
    "for num in numbers:\n",
    "    if num not in unique_numbers:\n",
    "        unique_numbers.append(num)\n",
    "print(unique_numbers)\n"
   ]
  },
  {
   "cell_type": "markdown",
   "metadata": {},
   "source": [
    "# Counting vowels and consonants from a sentence"
   ]
  },
  {
   "cell_type": "code",
   "execution_count": 80,
   "metadata": {},
   "outputs": [
    {
     "name": "stdout",
     "output_type": "stream",
     "text": [
      "3\n",
      "8\n"
     ]
    }
   ],
   "source": [
    "sentence= \"HEllo WOrld!\"\n",
    "vowels= 'aeiou'\n",
    "total_vowels=0\n",
    "total_consonants=0\n",
    "\n",
    "for char in sentence.lower():\n",
    "    if char in vowels:\n",
    "        total_vowels+=1\n",
    "    else:\n",
    "        total_consonants+=1\n",
    "print(total_vowels)\n",
    "print(total_consonants-1)"
   ]
  },
  {
   "cell_type": "markdown",
   "metadata": {},
   "source": [
    "# Find the sum of all items from given list"
   ]
  },
  {
   "cell_type": "code",
   "execution_count": 81,
   "metadata": {},
   "outputs": [
    {
     "name": "stdout",
     "output_type": "stream",
     "text": [
      "96\n"
     ]
    }
   ],
   "source": [
    "numbers= [100,1,-10,5]\n",
    "sum=0\n",
    "for num in numbers:\n",
    "    sum+=num\n",
    "print(sum)"
   ]
  },
  {
   "cell_type": "markdown",
   "metadata": {},
   "source": [
    "# Find the average of the items from the given list"
   ]
  },
  {
   "cell_type": "code",
   "execution_count": 82,
   "metadata": {},
   "outputs": [
    {
     "name": "stdout",
     "output_type": "stream",
     "text": [
      "24.0\n"
     ]
    }
   ],
   "source": [
    "numbers= [100,1,-10,5]\n",
    "sum=0\n",
    "for num in numbers:\n",
    "    sum+=num\n",
    "avg= sum/len(numbers)\n",
    "print(avg)"
   ]
  },
  {
   "cell_type": "markdown",
   "metadata": {},
   "source": [
    "# Range"
   ]
  },
  {
   "cell_type": "code",
   "execution_count": 83,
   "metadata": {},
   "outputs": [
    {
     "name": "stdout",
     "output_type": "stream",
     "text": [
      "1\n",
      "2\n",
      "3\n",
      "4\n",
      "5\n",
      "6\n",
      "7\n",
      "8\n",
      "9\n",
      "10\n"
     ]
    }
   ],
   "source": [
    "range_of_10= range(1,10)\n",
    "sum=0\n",
    "for i in range(1,11): #for i=0;i<10;i++\n",
    "    print(i)"
   ]
  },
  {
   "cell_type": "markdown",
   "metadata": {},
   "source": [
    "# Functions"
   ]
  },
  {
   "cell_type": "markdown",
   "metadata": {},
   "source": [
    "# Sum of two numbers using fuction"
   ]
  },
  {
   "cell_type": "code",
   "execution_count": 84,
   "metadata": {},
   "outputs": [
    {
     "name": "stdout",
     "output_type": "stream",
     "text": [
      "15\n"
     ]
    }
   ],
   "source": [
    "def add(x,y): #x and y are the parameters \n",
    "    sum = x+y\n",
    "    return sum\n",
    "sum= add(5,10)\n",
    "print(sum)"
   ]
  },
  {
   "cell_type": "markdown",
   "metadata": {},
   "source": [
    "# Product of two numbers using fuction"
   ]
  },
  {
   "cell_type": "code",
   "execution_count": 85,
   "metadata": {},
   "outputs": [
    {
     "name": "stdout",
     "output_type": "stream",
     "text": [
      "50\n"
     ]
    }
   ],
   "source": [
    "def mult(x,y): #x and y are the parameters \n",
    "    mult = x*y\n",
    "    return mult\n",
    "product= mult(5,10)\n",
    "print(product)"
   ]
  },
  {
   "cell_type": "code",
   "execution_count": 86,
   "metadata": {},
   "outputs": [
    {
     "name": "stdout",
     "output_type": "stream",
     "text": [
      "3\n",
      "5.0\n"
     ]
    }
   ],
   "source": [
    "def calc(x,y,op):\n",
    "    if op== '+':\n",
    "        return x+y\n",
    "    elif op== '-':\n",
    "        return x-y\n",
    "    elif op== '*':\n",
    "        return x*y\n",
    "    elif op== '/':\n",
    "        if y==0:\n",
    "            print('Error: Division by zero is not allowed')\n",
    "            return\n",
    "        else:\n",
    "            return x/y\n",
    "    else:\n",
    "        print('Print invalid operator')\n",
    "sum= calc(1,2,'+')\n",
    "print(sum)\n",
    "div= calc(10,2,'/')\n",
    "print(div)\n"
   ]
  },
  {
   "cell_type": "code",
   "execution_count": 87,
   "metadata": {},
   "outputs": [
    {
     "name": "stdout",
     "output_type": "stream",
     "text": [
      "(1, 2, 3, 4, 5, 6)\n"
     ]
    }
   ],
   "source": [
    "def add(a,b,*args):\n",
    "    print(a,b)\n",
    "    print(args)\n",
    "a=(1,2,3,4,5,6)\n",
    "print(a)"
   ]
  },
  {
   "cell_type": "markdown",
   "metadata": {},
   "source": [
    "# Return Statement"
   ]
  },
  {
   "cell_type": "code",
   "execution_count": 88,
   "metadata": {},
   "outputs": [
    {
     "name": "stdout",
     "output_type": "stream",
     "text": [
      "Number is even\n"
     ]
    }
   ],
   "source": [
    "def is_even_number(number):\n",
    "    if number %2==0:\n",
    "        return 'Number is even'\n",
    "    return 'Number is odd'\n",
    "check_number= is_even_number(4)\n",
    "print(check_number)"
   ]
  },
  {
   "cell_type": "markdown",
   "metadata": {},
   "source": [
    "# Lamda fuction"
   ]
  },
  {
   "cell_type": "code",
   "execution_count": 90,
   "metadata": {},
   "outputs": [
    {
     "name": "stdout",
     "output_type": "stream",
     "text": [
      "16\n"
     ]
    }
   ],
   "source": [
    "square= lambda x:x ** 2\n",
    "print(square(4))"
   ]
  },
  {
   "cell_type": "code",
   "execution_count": 2,
   "metadata": {},
   "outputs": [
    {
     "name": "stdout",
     "output_type": "stream",
     "text": [
      "10 5\n"
     ]
    }
   ],
   "source": [
    "def swap_numbers(a,b):\n",
    "    a=a+b\n",
    "    b=a-b\n",
    "    a=a-b\n",
    "    return a,b\n",
    "a,b= swap_numbers(a=5, b=10)\n",
    "print(a,b)\n"
   ]
  },
  {
   "cell_type": "code",
   "execution_count": 103,
   "metadata": {},
   "outputs": [
    {
     "name": "stdout",
     "output_type": "stream",
     "text": [
      "3\n"
     ]
    }
   ],
   "source": [
    "sentence= \"HEllo WOrld!\"\n",
    "vowels= 'aeiou'\n",
    "total_vowels=0\n",
    "def count_vowels(sentence):\n",
    "    total_vowels=0\n",
    "    vowels= 'aeiou' \n",
    "    for char in sentence.lower():\n",
    "        if char in vowels:\n",
    "            total_vowels += 1\n",
    "    return total_vowels\n",
    "total_vowels=count_vowels(\"HEllo WOrld!\") \n",
    "print(total_vowels)\n"
   ]
  },
  {
   "cell_type": "code",
   "execution_count": 109,
   "metadata": {},
   "outputs": [
    {
     "name": "stdout",
     "output_type": "stream",
     "text": [
      "The given number is not prime\n"
     ]
    }
   ],
   "source": [
    "def prime(a):\n",
    "    if a%a!=0 or a%1!=0:\n",
    "        return 'The given number is prime'\n",
    "    else: \n",
    "        return 'The given number is not prime'\n",
    "check_number= prime(2)\n",
    "print(check_number)\n",
    "\n"
   ]
  },
  {
   "cell_type": "code",
   "execution_count": 1,
   "metadata": {},
   "outputs": [
    {
     "name": "stdout",
     "output_type": "stream",
     "text": [
      "False\n"
     ]
    }
   ],
   "source": [
    "def prime(n):\n",
    "    is_prime= True\n",
    "    for i in range(2, int(n/2)+1):\n",
    "        if n% i ==0:\n",
    "            is_prime = False\n",
    "            break\n",
    "    return is_prime\n",
    "print(prime(16))"
   ]
  },
  {
   "cell_type": "markdown",
   "metadata": {},
   "source": [
    "## Write a function to swap two numbers without using a temporary variable"
   ]
  },
  {
   "cell_type": "code",
   "execution_count": 4,
   "metadata": {},
   "outputs": [
    {
     "name": "stdout",
     "output_type": "stream",
     "text": [
      "19 7\n",
      "19 7\n"
     ]
    }
   ],
   "source": [
    "def swap_numbers(a,b):\n",
    "    a = a+b\n",
    "    b = a-b\n",
    "    a = a-b\n",
    "    print(a,b)\n",
    "    return a,b\n",
    "\n",
    "a,b = swap_numbers(7,19)\n",
    "print(a,b)"
   ]
  },
  {
   "cell_type": "markdown",
   "metadata": {},
   "source": [
    "## Write a function Check if a number is prime"
   ]
  },
  {
   "cell_type": "code",
   "execution_count": 5,
   "metadata": {},
   "outputs": [
    {
     "name": "stdout",
     "output_type": "stream",
     "text": [
      "25 is prime: True\n"
     ]
    }
   ],
   "source": [
    "import math\n",
    "num = 25 \n",
    "is_prime = True\n",
    "if num < 2:\n",
    "    is_prime = False\n",
    "else:\n",
    "    for i in range(2, math.ceil(math.sqrt(num) )): \n",
    "        if num % i == 0:\n",
    "            is_prime = False\n",
    "            break\n",
    "print(num, \"is prime:\", is_prime)"
   ]
  },
  {
   "cell_type": "markdown",
   "metadata": {},
   "source": [
    "## Write a function Determine if a string is a palindrome"
   ]
  },
  {
   "cell_type": "code",
   "execution_count": 6,
   "metadata": {},
   "outputs": [
    {
     "name": "stdout",
     "output_type": "stream",
     "text": [
      "Roshan nahsoR\n",
      "Input is not palindrome\n"
     ]
    }
   ],
   "source": [
    "input = \"Roshan\"\n",
    "length = len(input)\n",
    "counter = length-1\n",
    "reversed = ''\n",
    "while counter>=0:\n",
    "    reversed += input[counter]\n",
    "    counter -= 1\n",
    "\n",
    "print(input,reversed)\n",
    "if reversed==input:\n",
    "    print('Input is palindrome')\n",
    "else:\n",
    "    print(\"Input is not palindrome\")\n"
   ]
  },
  {
   "cell_type": "markdown",
   "metadata": {},
   "source": [
    "## Write a function Find the common elements between two lists"
   ]
  },
  {
   "cell_type": "code",
   "execution_count": 10,
   "metadata": {},
   "outputs": [
    {
     "name": "stdout",
     "output_type": "stream",
     "text": [
      "[5, 36, 4]\n"
     ]
    }
   ],
   "source": [
    "list1 = [5, 36, 8, 4]  \n",
    "list2 = [78,36, 4, 5, 61] \n",
    "\n",
    "common_list = []\n",
    "for item1 in list1:\n",
    "    for item2 in list2:\n",
    "        if item1==item2:\n",
    "            common_list.append(item1)\n",
    "\n",
    "print(common_list)"
   ]
  },
  {
   "cell_type": "markdown",
   "metadata": {},
   "source": [
    "## write a function to Check if a given number is a perfect square"
   ]
  },
  {
   "cell_type": "code",
   "execution_count": 4,
   "metadata": {},
   "outputs": [
    {
     "name": "stdout",
     "output_type": "stream",
     "text": [
      "True\n"
     ]
    }
   ],
   "source": [
    "number = 16\n",
    "\n",
    "def check_perfect_square(number):\n",
    "    if number == 1:\n",
    "        return True\n",
    "    \n",
    "    is_perfect_square = False\n",
    "    for i in range(1, int(number ** 0.5) + 1):\n",
    "        if i * i == number:\n",
    "            is_perfect_square = True\n",
    "            break\n",
    "    return is_perfect_square\n",
    "\n",
    "print(check_perfect_square(number))"
   ]
  },
  {
   "cell_type": "markdown",
   "metadata": {},
   "source": [
    "## Write a function to Find the second largest number in a list"
   ]
  },
  {
   "cell_type": "code",
   "execution_count": 12,
   "metadata": {},
   "outputs": [
    {
     "name": "stdout",
     "output_type": "stream",
     "text": [
      "100 4\n"
     ]
    }
   ],
   "source": [
    "numbers = [3 , 1, 2,100,  4] \n",
    "\n",
    "max_number = numbers[0]\n",
    "second_max_number  = numbers[0]\n",
    "\n",
    "for n in numbers:\n",
    "    if n > max_number:\n",
    "        max_number = n\n",
    "    elif n>second_max_number and n != max_number:\n",
    "        second_max_number = n\n",
    "\n",
    "\n",
    "print(max_number,second_max_number)"
   ]
  },
  {
   "cell_type": "markdown",
   "metadata": {},
   "source": [
    "## Write a function to remove duplicates from a list"
   ]
  },
  {
   "cell_type": "code",
   "execution_count": 5,
   "metadata": {},
   "outputs": [
    {
     "name": "stdout",
     "output_type": "stream",
     "text": [
      "[1, 2, 3, 4, 5]\n"
     ]
    }
   ],
   "source": [
    "numbers = [1, 2, 2, 3, 4, 4, 5]\n",
    "unique_numbers = []\n",
    "for n in numbers:\n",
    "    if n  not in unique_numbers:\n",
    "        unique_numbers.append(n)\n",
    "\n",
    "print(unique_numbers)"
   ]
  },
  {
   "cell_type": "markdown",
   "metadata": {},
   "source": [
    "## Write a function that prints the multiplication table of given number"
   ]
  },
  {
   "cell_type": "code",
   "execution_count": 14,
   "metadata": {},
   "outputs": [
    {
     "name": "stdout",
     "output_type": "stream",
     "text": [
      "7 x 1 = 7\n",
      "7 x 2 = 14\n",
      "7 x 3 = 21\n",
      "7 x 4 = 28\n",
      "7 x 5 = 35\n",
      "7 x 6 = 42\n",
      "7 x 7 = 49\n",
      "7 x 8 = 56\n",
      "7 x 9 = 63\n",
      "7 x 10 = 70\n"
     ]
    }
   ],
   "source": [
    "def multiplication_table(number):\n",
    "    for i in range(1, 11):\n",
    "        print(f\"{number} x {i} = {number * i}\")\n",
    "\n",
    "\n",
    "multiplication_table(7)"
   ]
  },
  {
   "cell_type": "code",
   "execution_count": null,
   "metadata": {},
   "outputs": [],
   "source": []
  }
 ],
 "metadata": {
  "kernelspec": {
   "display_name": "base",
   "language": "python",
   "name": "python3"
  },
  "language_info": {
   "codemirror_mode": {
    "name": "ipython",
    "version": 3
   },
   "file_extension": ".py",
   "mimetype": "text/x-python",
   "name": "python",
   "nbconvert_exporter": "python",
   "pygments_lexer": "ipython3",
   "version": "3.12.4"
  }
 },
 "nbformat": 4,
 "nbformat_minor": 2
}
